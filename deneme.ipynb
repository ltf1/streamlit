{
 "cells": [
  {
   "cell_type": "code",
   "execution_count": 2,
   "metadata": {},
   "outputs": [
    {
     "name": "stdout",
     "output_type": "stream",
     "text": [
      "Requirement already satisfied: streamlit in /opt/anaconda3/lib/python3.9/site-packages (1.14.1)\n",
      "Requirement already satisfied: tzlocal>=1.1 in /opt/anaconda3/lib/python3.9/site-packages (from streamlit) (4.2)\n",
      "Requirement already satisfied: pyarrow>=4.0 in /opt/anaconda3/lib/python3.9/site-packages (from streamlit) (9.0.0)\n",
      "Requirement already satisfied: gitpython!=3.1.19 in /opt/anaconda3/lib/python3.9/site-packages (from streamlit) (3.1.29)\n",
      "Requirement already satisfied: pydeck>=0.1.dev5 in /opt/anaconda3/lib/python3.9/site-packages (from streamlit) (0.8.0)\n",
      "Requirement already satisfied: typing-extensions>=3.10.0.0 in /opt/anaconda3/lib/python3.9/site-packages (from streamlit) (4.1.1)\n",
      "Requirement already satisfied: altair>=3.2.0 in /opt/anaconda3/lib/python3.9/site-packages (from streamlit) (4.2.0)\n",
      "Requirement already satisfied: click>=7.0 in /opt/anaconda3/lib/python3.9/site-packages (from streamlit) (8.0.4)\n",
      "Requirement already satisfied: blinker>=1.0.0 in /opt/anaconda3/lib/python3.9/site-packages (from streamlit) (1.5)\n",
      "Requirement already satisfied: pympler>=0.9 in /opt/anaconda3/lib/python3.9/site-packages (from streamlit) (1.0.1)\n",
      "Requirement already satisfied: rich>=10.11.0 in /opt/anaconda3/lib/python3.9/site-packages (from streamlit) (12.6.0)\n",
      "Requirement already satisfied: cachetools>=4.0 in /opt/anaconda3/lib/python3.9/site-packages (from streamlit) (4.2.2)\n",
      "Requirement already satisfied: tornado>=5.0 in /opt/anaconda3/lib/python3.9/site-packages (from streamlit) (6.1)\n",
      "Requirement already satisfied: validators>=0.2 in /opt/anaconda3/lib/python3.9/site-packages (from streamlit) (0.20.0)\n",
      "Requirement already satisfied: toml in /opt/anaconda3/lib/python3.9/site-packages (from streamlit) (0.10.2)\n",
      "Requirement already satisfied: pillow>=6.2.0 in /opt/anaconda3/lib/python3.9/site-packages (from streamlit) (9.0.1)\n",
      "Requirement already satisfied: protobuf<4,>=3.12 in /opt/anaconda3/lib/python3.9/site-packages (from streamlit) (3.20.3)\n",
      "Requirement already satisfied: numpy in /opt/anaconda3/lib/python3.9/site-packages (from streamlit) (1.21.5)\n",
      "Requirement already satisfied: python-dateutil in /opt/anaconda3/lib/python3.9/site-packages (from streamlit) (2.8.2)\n",
      "Requirement already satisfied: pandas>=0.21.0 in /opt/anaconda3/lib/python3.9/site-packages (from streamlit) (1.4.2)\n",
      "Requirement already satisfied: semver in /opt/anaconda3/lib/python3.9/site-packages (from streamlit) (2.13.0)\n",
      "Requirement already satisfied: importlib-metadata>=1.4 in /opt/anaconda3/lib/python3.9/site-packages (from streamlit) (4.11.3)\n",
      "Requirement already satisfied: requests>=2.4 in /opt/anaconda3/lib/python3.9/site-packages (from streamlit) (2.27.1)\n",
      "Requirement already satisfied: packaging>=14.1 in /opt/anaconda3/lib/python3.9/site-packages (from streamlit) (21.3)\n",
      "Requirement already satisfied: toolz in /opt/anaconda3/lib/python3.9/site-packages (from altair>=3.2.0->streamlit) (0.11.2)\n",
      "Requirement already satisfied: jsonschema>=3.0 in /opt/anaconda3/lib/python3.9/site-packages (from altair>=3.2.0->streamlit) (4.4.0)\n",
      "Requirement already satisfied: jinja2 in /opt/anaconda3/lib/python3.9/site-packages (from altair>=3.2.0->streamlit) (2.11.3)\n",
      "Requirement already satisfied: entrypoints in /opt/anaconda3/lib/python3.9/site-packages (from altair>=3.2.0->streamlit) (0.4)\n",
      "Requirement already satisfied: gitdb<5,>=4.0.1 in /opt/anaconda3/lib/python3.9/site-packages (from gitpython!=3.1.19->streamlit) (4.0.9)\n",
      "Requirement already satisfied: smmap<6,>=3.0.1 in /opt/anaconda3/lib/python3.9/site-packages (from gitdb<5,>=4.0.1->gitpython!=3.1.19->streamlit) (5.0.0)\n",
      "Requirement already satisfied: zipp>=0.5 in /opt/anaconda3/lib/python3.9/site-packages (from importlib-metadata>=1.4->streamlit) (3.7.0)\n",
      "Requirement already satisfied: pyrsistent!=0.17.0,!=0.17.1,!=0.17.2,>=0.14.0 in /opt/anaconda3/lib/python3.9/site-packages (from jsonschema>=3.0->altair>=3.2.0->streamlit) (0.18.0)\n",
      "Requirement already satisfied: attrs>=17.4.0 in /opt/anaconda3/lib/python3.9/site-packages (from jsonschema>=3.0->altair>=3.2.0->streamlit) (21.4.0)\n",
      "Requirement already satisfied: pyparsing!=3.0.5,>=2.0.2 in /opt/anaconda3/lib/python3.9/site-packages (from packaging>=14.1->streamlit) (3.0.4)\n",
      "Requirement already satisfied: pytz>=2020.1 in /opt/anaconda3/lib/python3.9/site-packages (from pandas>=0.21.0->streamlit) (2021.3)\n",
      "Requirement already satisfied: MarkupSafe>=0.23 in /opt/anaconda3/lib/python3.9/site-packages (from jinja2->altair>=3.2.0->streamlit) (2.0.1)\n",
      "Requirement already satisfied: six>=1.5 in /opt/anaconda3/lib/python3.9/site-packages (from python-dateutil->streamlit) (1.16.0)\n",
      "Requirement already satisfied: charset-normalizer~=2.0.0 in /opt/anaconda3/lib/python3.9/site-packages (from requests>=2.4->streamlit) (2.0.4)\n",
      "Requirement already satisfied: idna<4,>=2.5 in /opt/anaconda3/lib/python3.9/site-packages (from requests>=2.4->streamlit) (3.3)\n",
      "Requirement already satisfied: urllib3<1.27,>=1.21.1 in /opt/anaconda3/lib/python3.9/site-packages (from requests>=2.4->streamlit) (1.26.9)\n",
      "Requirement already satisfied: certifi>=2017.4.17 in /opt/anaconda3/lib/python3.9/site-packages (from requests>=2.4->streamlit) (2021.10.8)\n",
      "Requirement already satisfied: commonmark<0.10.0,>=0.9.0 in /opt/anaconda3/lib/python3.9/site-packages (from rich>=10.11.0->streamlit) (0.9.1)\n",
      "Requirement already satisfied: pygments<3.0.0,>=2.6.0 in /opt/anaconda3/lib/python3.9/site-packages (from rich>=10.11.0->streamlit) (2.11.2)\n",
      "Requirement already satisfied: pytz-deprecation-shim in /opt/anaconda3/lib/python3.9/site-packages (from tzlocal>=1.1->streamlit) (0.1.0.post0)\n",
      "Requirement already satisfied: decorator>=3.4.0 in /opt/anaconda3/lib/python3.9/site-packages (from validators>=0.2->streamlit) (5.1.1)\n",
      "Requirement already satisfied: tzdata in /opt/anaconda3/lib/python3.9/site-packages (from pytz-deprecation-shim->tzlocal>=1.1->streamlit) (2022.6)\n"
     ]
    },
    {
     "data": {
      "image/png": "[encoded data removed]",
      "text/plain": [
       "<Figure size 1080x432 with 1 Axes>"
      ]
     },
     "metadata": {
      "needs_background": "light"
     },
     "output_type": "display_data"
    }
   ],
   "source": [
    "!pip install streamlit\n",
    "import streamlit as st\n",
    "import matplotlib.pyplot as plt\n",
    "import matplotlib.patches as mpatches\n",
    "import pandas as pd\n",
    "\n",
    "#df=pd.read_csv(\"active_users.csv\")\n",
    "#df['ds'] = pd.to_datetime(df['ds'])\n",
    "\n",
    "# Define colors for each day of the week\n",
    "dayofweek_colors = {'Monday': 'blue', 'Tuesday': 'green', 'Wednesday': 'orange', 'Thursday': 'red', 'Friday': 'purple', 'Saturday': 'brown', 'Sunday': 'pink'}\n",
    "\n",
    "# Plot that shows the historical data by day of the week\n",
    "def plot_data(df, selected_days, selected_dataset):\n",
    "    plt.close()\n",
    "    fig, ax = plt.subplots(figsize=(15,6))\n",
    "    if selected_days:\n",
    "        df_selected = df[df['ds'].dt.day_name().isin(selected_days)]\n",
    "        for day in selected_days:\n",
    "            df_day = df_selected[df_selected['ds'].dt.day_name() == day]\n",
    "            ax.scatter(df_day['ds'], df_day['y'], c=dayofweek_colors[day], label=day)\n",
    "        ax.legend()\n",
    "    else:\n",
    "        ax.scatter(df['ds'], df['y'], c=df['ds'].dt.dayofweek.map(dayofweek_colors))\n",
    "        handles = [mpatches.Patch(color=v, label=k) for v, k in zip(dayofweek_colors.values(), dayofweek_colors.keys())]\n",
    "        legend = ax.legend(handles=handles, bbox_to_anchor=(1, 0.5), title=\"Day of the week\")\n",
    "        ax.add_artist(legend)\n",
    "    plt.xlabel('Date')\n",
    "    plt.ylabel(selected_dataset)\n",
    "    plt.title(\"{} Data by Day of Week\".format(selected_dataset))\n",
    "    st.pyplot(fig)\n",
    "\n",
    "\n",
    "# Load your data into a pandas DataFrame\n",
    "\n",
    "# Create a multi-select widget to allow the user to select which days to plot\n",
    "selected_days = st.multiselect('Select days to plot', list(dayofweek_colors.keys()))\n",
    "\n",
    "# Call the plot_data function to create the plot\n",
    "\n",
    "\n",
    "active_users_df = pd.read_csv(\"active_users.csv\")\n",
    "installs_df = pd.read_csv(\"installs.csv\")\n",
    "playback_duration_df = pd.read_csv(\"play.csv\")\n",
    "\n",
    "# Create a dictionary to map the dataset names to their corresponding DataFrames\n",
    "data_dict = {\"Active Users\": active_users_df, \"Installs\": installs_df, \"Play\": playback_duration_df}\n",
    "\n",
    "# Create a dropdown widget to allow the user to select which dataset to display\n",
    "selected_dataset = st.selectbox(\"Select dataset\", list(data_dict.keys()))\n",
    "\n",
    "# Get the DataFrame for the selected dataset\n",
    "df = data_dict[selected_dataset]\n",
    "df['ds'] = pd.to_datetime(df['ds'])\n",
    "\n",
    "# Create a multi-select widget to allow the user to select which days to plot\n",
    "selected_days = st.multiselect('Select days to plot', list(dayofweek_colors.keys()))\n",
    "\n",
    "# Call the plot_data function to create the plot\n",
    "plt.ylabel(selected_dataset)\n",
    "plot_data(df, selected_days, selected_dataset)\n",
    "\n",
    "\n",
    "\n"
   ]
  },
  {
   "cell_type": "code",
   "execution_count": null,
   "metadata": {},
   "outputs": [],
   "source": []
  }
 ],
 "metadata": {
  "kernelspec": {
   "display_name": "base",
   "language": "python",
   "name": "python3"
  },
  "language_info": {
   "codemirror_mode": {
    "name": "ipython",
    "version": 3
   },
   "file_extension": ".py",
   "mimetype": "text/x-python",
   "name": "python",
   "nbconvert_exporter": "python",
   "pygments_lexer": "ipython3",
   "version": "3.9.12"
  },
  "orig_nbformat": 4,
  "vscode": {
   "interpreter": {
    "hash": "40d3a090f54c6569ab1632332b64b2c03c39dcf918b08424e98f38b5ae0af88f"
   }
  }
 },
 "nbformat": 4,
 "nbformat_minor": 2
}
